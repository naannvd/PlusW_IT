{
 "cells": [
  {
   "cell_type": "code",
   "execution_count": 1,
   "metadata": {},
   "outputs": [
    {
     "name": "stdout",
     "output_type": "stream",
     "text": [
      "Added new task: Finish Homework\n",
      "Added new task: Buy groceries\n",
      "\n",
      "Current tasks are:\n",
      "Finish Homework\n",
      "Buy groceries\n",
      "\n",
      "Removed task: Buy groceries\n",
      "\n",
      "Current tasks are:\n",
      "Finish Homework\n"
     ]
    }
   ],
   "source": [
    "\n",
    "tasks =[]\n",
    "\n",
    "\n",
    "def add_task(task):\n",
    "  tasks.append(task)\n",
    "  print(f\"Added new task: {task}\")\n",
    "\n",
    "\n",
    "def remove_task(task):\n",
    "  if task in tasks:\n",
    "    tasks.remove(task)\n",
    "    print(f\"\\nRemoved task: {task}\")\n",
    "\n",
    "\n",
    "def view_tasks():\n",
    "  print(\"\\nCurrent tasks are:\")\n",
    "  for task in tasks:\n",
    "    print(task)\n",
    "\n",
    "\n",
    "add_task(\"Finish Homework\")\n",
    "add_task(\"Buy groceries\")\n",
    "view_tasks()\n",
    "remove_task(\"Buy groceries\")\n",
    "view_tasks()"
   ]
  },
  {
   "cell_type": "code",
   "execution_count": 2,
   "metadata": {},
   "outputs": [
    {
     "name": "stdout",
     "output_type": "stream",
     "text": [
      "Max: 9, Min: 1\n"
     ]
    }
   ],
   "source": [
    "def find_min_max(first):\n",
    "  max_val = first[0]\n",
    "  min_val = first[0]\n",
    "  for num in first:\n",
    "    if num > max_val:\n",
    "      max_val = num\n",
    "    if num < min_val:\n",
    "      min_val = num\n",
    "  return max_val, min_val\n",
    "\n",
    "\n",
    "numbers = [3, 9, 2, 8, 1]\n",
    "\n",
    "max_val, min_val = find_min_max(numbers)\n",
    "print(f\"Max: {max_val}, Min: {min_val}\")"
   ]
  },
  {
   "cell_type": "code",
   "execution_count": 3,
   "metadata": {},
   "outputs": [
    {
     "name": "stdout",
     "output_type": "stream",
     "text": [
      "\n",
      "Added Alice with their number 123456789 to phonebook\n",
      "\n",
      "Added Bob with their number 987654321 to phonebook\n",
      "\n",
      "Contact not found\n",
      "987654321\n"
     ]
    }
   ],
   "source": [
    "phonebook = {}\n",
    "\n",
    "\n",
    "def add_contact(name, number):\n",
    "  phonebook[name] = number\n",
    "  print(f\"\\nAdded {name} with their number {number} to phonebook\")\n",
    "\n",
    "\n",
    "def get_number(name):\n",
    "  return phonebook.get(name, \"\\nContact not found\")\n",
    "\n",
    "\n",
    "add_contact(\"Alice\", \"123456789\")\n",
    "add_contact(\"Bob\", \"987654321\")\n",
    "print(get_number(\"vcvcv\"))\n",
    "print(get_number(\"Bob\"))"
   ]
  },
  {
   "cell_type": "code",
   "execution_count": 4,
   "metadata": {},
   "outputs": [
    {
     "name": "stdout",
     "output_type": "stream",
     "text": [
      "Added 10 Apples to the invemtory\n",
      "Added 7 Mangoes to the invemtory\n",
      "Added 12 Oranges to the invemtory\n",
      "\n",
      "\n",
      "Apples: 10\n",
      "Mangoes: 7\n",
      "Oranges: 12\n",
      "\n",
      "Insufficient quantity of Mangoes in inventory\n",
      "\n",
      "Decreased quantity of Mangoes to 5 in inventory\n",
      "\n",
      "Number of Oranges has reached 0, deleting from inventory\n",
      "\n",
      "\n",
      "Apples: 10\n",
      "Mangoes: 2\n"
     ]
    }
   ],
   "source": [
    "inventory = {}\n",
    "\n",
    "def add_item(item, quantity):\n",
    "  if item in inventory:\n",
    "    inventory[item] += quantity\n",
    "    print(f\"\\nIncreased the quantity of {item} to {quantity} in inventory\")\n",
    "  else:\n",
    "    inventory[item] = quantity\n",
    "    print(f\"Added {quantity} {item} to the invemtory\")\n",
    "\n",
    "\n",
    "def remove_item(item, quantity):\n",
    "  if item in inventory and inventory[item] >= quantity:\n",
    "    inventory[item] -= quantity\n",
    "    if inventory[item] == 0:\n",
    "      del inventory[item]\n",
    "      print(f\"\\nNumber of {item} has reached 0, deleting from inventory\")\n",
    "    else:\n",
    "      print(f\"\\nDecreased quantity of {item} to {quantity} in inventory\")\n",
    "  else:\n",
    "    print(f\"\\nInsufficient quantity of {item} in inventory\")\n",
    "\n",
    "def view_inventory():\n",
    "  print(\"\\n\")\n",
    "  for item, quantity in inventory.items():\n",
    "    print(f\"{item}: {quantity}\")\n",
    "\n",
    "add_item(\"Apples\", 10)\n",
    "add_item(\"Mangoes\", 7)\n",
    "add_item(\"Oranges\", 12)\n",
    "\n",
    "view_inventory()\n",
    "\n",
    "remove_item(\"Mangoes\", 10)\n",
    "remove_item(\"Mangoes\", 5)\n",
    "remove_item(\"Oranges\", 12)\n",
    "\n",
    "view_inventory()"
   ]
  },
  {
   "cell_type": "code",
   "execution_count": 5,
   "metadata": {},
   "outputs": [
    {
     "name": "stdout",
     "output_type": "stream",
     "text": [
      "Current balance: 1000\n",
      "\n",
      "Deposited: 500. New balance: 1500\n",
      "\n",
      "Withdrew: 300. New balance: 1200\n",
      "\n",
      "Insufficient funds\n"
     ]
    }
   ],
   "source": [
    "def deposit(balance, amount):\n",
    "  balance += amount\n",
    "  print(f\"\\nDeposited: {amount}. New balance: {balance}\")\n",
    "  return balance\n",
    "\n",
    "def withdraw(balance,amount):\n",
    "  if amount <= balance:\n",
    "    balance -= amount\n",
    "    print(f\"\\nWithdrew: {amount}. New balance: {balance}\")\n",
    "  else:\n",
    "    print(\"\\nInsufficient funds\")\n",
    "  return balance\n",
    "\n",
    "def check_balance(balance):\n",
    "  print(f\"Current balance: {balance}\")\n",
    "\n",
    "balance = 1000\n",
    "check_balance(balance)\n",
    "balance = deposit(balance, 500)\n",
    "balance = withdraw(balance, 300)\n",
    "balance = withdraw(balance, 1500)"
   ]
  }
 ],
 "metadata": {
  "kernelspec": {
   "display_name": "Python 3",
   "language": "python",
   "name": "python3"
  },
  "language_info": {
   "codemirror_mode": {
    "name": "ipython",
    "version": 3
   },
   "file_extension": ".py",
   "mimetype": "text/x-python",
   "name": "python",
   "nbconvert_exporter": "python",
   "pygments_lexer": "ipython3",
   "version": "3.10.11"
  }
 },
 "nbformat": 4,
 "nbformat_minor": 2
}
