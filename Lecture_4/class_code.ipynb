{
 "cells": [
  {
   "cell_type": "code",
   "execution_count": 15,
   "metadata": {},
   "outputs": [
    {
     "name": "stdout",
     "output_type": "stream",
     "text": [
      "This is me saying something\n"
     ]
    }
   ],
   "source": [
    "def say_something():\n",
    "  print(\"This is me saying something\")\n",
    "\n",
    "\n",
    "\n",
    "ImJusSayin = say_something\n",
    "\n",
    "ImJusSayin()"
   ]
  },
  {
   "cell_type": "code",
   "execution_count": 16,
   "metadata": {},
   "outputs": [
    {
     "name": "stdout",
     "output_type": "stream",
     "text": [
      "The sum of 2 and 3 is: 5\n",
      "The difference of 2 and 3 is: -1\n",
      "The product of 2 and 3 is: 6\n",
      "The quotient of 2 and 3 is: 0.6666666666666666\n"
     ]
    }
   ],
   "source": [
    "# Passing functions as arguments\n",
    "\n",
    "def add(a, b):\n",
    "  return a + b\n",
    "\n",
    "def sub(a, b):\n",
    "  return a - b\n",
    "\n",
    "def mult(a, b):\n",
    "  return a * b\n",
    "\n",
    "def div(a, b):\n",
    "  return a / b\n",
    "\n",
    "\n",
    "def opNumber(f, a, b):\n",
    "  return f(a, b)\n",
    "\n",
    "\n",
    "\n",
    "print(f\"The sum of 2 and 3 is: {opNumber(add, 2, 3)}\")\n",
    "print(f\"The difference of 2 and 3 is: {opNumber(sub, 2, 3)}\")\n",
    "print(f\"The product of 2 and 3 is: {opNumber(mult, 2, 3)}\")\n",
    "print(f\"The quotient of 2 and 3 is: {opNumber(div, 2, 3)}\")"
   ]
  },
  {
   "cell_type": "code",
   "execution_count": 17,
   "metadata": {},
   "outputs": [
    {
     "name": "stdout",
     "output_type": "stream",
     "text": [
      "10\n"
     ]
    }
   ],
   "source": [
    "# Returning functions from other functions\n",
    "\n",
    "def adder(num1):\n",
    "  def adding(num2):\n",
    "    return num1 + num2\n",
    "  return adding\n",
    "\n",
    "\n",
    "\n",
    "startingAdd = adder(4)\n",
    "print(startingAdd(6))"
   ]
  },
  {
   "cell_type": "code",
   "execution_count": 18,
   "metadata": {},
   "outputs": [
    {
     "name": "stdout",
     "output_type": "stream",
     "text": [
      "120\n"
     ]
    }
   ],
   "source": [
    "# Recursive function\n",
    "\n",
    "def factorial(n):\n",
    "  if n == 1:\n",
    "    return 1\n",
    "  return n * factorial(n - 1)\n",
    "\n",
    "\n",
    "\n",
    "print(factorial(5))"
   ]
  },
  {
   "cell_type": "code",
   "execution_count": 19,
   "metadata": {},
   "outputs": [
    {
     "name": "stdout",
     "output_type": "stream",
     "text": [
      "Help on function add in module __main__:\n",
      "\n",
      "add(a, b)\n",
      "    Adds both the numbers passed as parameters\n",
      "\n"
     ]
    }
   ],
   "source": [
    "# Doc strings\n",
    "\n",
    "def add(a, b):\n",
    "  '''Adds both the numbers passed as parameters'''\n",
    "  return a + b\n",
    "\n",
    "\n",
    "help(add)"
   ]
  },
  {
   "cell_type": "code",
   "execution_count": 20,
   "metadata": {},
   "outputs": [
    {
     "name": "stdout",
     "output_type": "stream",
     "text": [
      "The sum of 1 and 1 is: 2\n"
     ]
    }
   ],
   "source": [
    "# Local variables\n",
    "\n",
    "def add():\n",
    "  a = 1\n",
    "  b = 1\n",
    "  print(f\"The sum of {a} and {b} is: {a + b}\")\n",
    "\n",
    "\n",
    "\n",
    "add()"
   ]
  },
  {
   "cell_type": "code",
   "execution_count": 21,
   "metadata": {},
   "outputs": [
    {
     "name": "stdout",
     "output_type": "stream",
     "text": [
      "The sum of 2 and 2 is: 4\n"
     ]
    }
   ],
   "source": [
    "# Global variables\n",
    "\n",
    "a = 2\n",
    "b = 2\n",
    "\n",
    "def add():\n",
    "  print(f\"The sum of {a} and {b} is: {a + b}\")\n",
    "\n",
    "\n",
    "\n",
    "add()\n",
    "     "
   ]
  },
  {
   "cell_type": "code",
   "execution_count": 22,
   "metadata": {},
   "outputs": [
    {
     "name": "stdout",
     "output_type": "stream",
     "text": [
      "The sum of 10 and 10 is: 20\n"
     ]
    }
   ],
   "source": [
    "a = 10\n",
    "b = 20\n",
    "\n",
    "def add():\n",
    "  global b\n",
    "  b = 10\n",
    "  print(f\"The sum of {a} and {b} is: {a + b}\")\n",
    "\n",
    "\n",
    "\n",
    "add()"
   ]
  },
  {
   "cell_type": "code",
   "execution_count": 23,
   "metadata": {},
   "outputs": [
    {
     "name": "stdout",
     "output_type": "stream",
     "text": [
      "The value of x in the func2 is: 5\n"
     ]
    }
   ],
   "source": [
    "\n",
    "def func():\n",
    "  a = 6\n",
    "  def func2():\n",
    "    nonlocal a\n",
    "    a =5\n",
    "  func2()\n",
    "  print(f\"The value of x in the func2 is: {a}\")\n",
    "\n",
    "func()"
   ]
  },
  {
   "cell_type": "code",
   "execution_count": 24,
   "metadata": {},
   "outputs": [
    {
     "name": "stdout",
     "output_type": "stream",
     "text": [
      "Requirement already satisfied: numpy in c:\\users\\mrg18\\appdata\\local\\packages\\pythonsoftwarefoundation.python.3.10_qbz5n2kfra8p0\\localcache\\local-packages\\python310\\site-packages (2.2.3)\n",
      "Note: you may need to restart the kernel to use updated packages.\n"
     ]
    },
    {
     "name": "stderr",
     "output_type": "stream",
     "text": [
      "\n",
      "[notice] A new release of pip is available: 23.0.1 -> 25.0.1\n",
      "[notice] To update, run: C:\\Users\\mrg18\\AppData\\Local\\Microsoft\\WindowsApps\\PythonSoftwareFoundation.Python.3.10_qbz5n2kfra8p0\\python.exe -m pip install --upgrade pip\n"
     ]
    }
   ],
   "source": [
    "# Ensure numpy is installed\n",
    "%pip install numpy\n",
    "import numpy as np"
   ]
  },
  {
   "cell_type": "code",
   "execution_count": 25,
   "metadata": {},
   "outputs": [
    {
     "name": "stdout",
     "output_type": "stream",
     "text": [
      "<class 'list'>\n",
      "<class 'numpy.ndarray'>\n"
     ]
    }
   ],
   "source": [
    "# Python lists and NumPy arrays\n",
    "\n",
    "py_list = [1, 2, 3, 4, 5]\n",
    "np_array = np.array([1, 2, 3, 4, 5])\n",
    "\n",
    "print(type(py_list))\n",
    "print(type(np_array))"
   ]
  },
  {
   "cell_type": "code",
   "execution_count": 26,
   "metadata": {},
   "outputs": [
    {
     "name": "stdout",
     "output_type": "stream",
     "text": [
      "[1 2 3 4 5]\n",
      "[[1 2 3]\n",
      " [4 5 6]]\n",
      "2\n"
     ]
    }
   ],
   "source": [
    "# Dimensional arrays\n",
    "\n",
    "array_1D = np.array([1, 2, 3, 4, 5])\n",
    "print(array_1D)\n",
    "\n",
    "array_2D = np.array([[1, 2, 3],\n",
    "                    [4, 5, 6]])\n",
    "print(array_2D)\n",
    "\n",
    "print(array_2D.ndim)"
   ]
  },
  {
   "cell_type": "code",
   "execution_count": 27,
   "metadata": {},
   "outputs": [
    {
     "name": "stdout",
     "output_type": "stream",
     "text": [
      "[[0. 0. 0.]\n",
      " [0. 0. 0.]]\n",
      "[[1. 1. 1.]\n",
      " [1. 1. 1.]]\n",
      "[[9 9 9]\n",
      " [9 9 9]]\n"
     ]
    }
   ],
   "source": [
    "# Array of zeroes\n",
    "\n",
    "zeros_array = np.zeros((2, 3))\n",
    "print(zeros_array)\n",
    "\n",
    "\n",
    "# Array of ones\n",
    "\n",
    "ones_array = np.ones((2, 3))\n",
    "print(ones_array)\n",
    "\n",
    "\n",
    "# Array of nines\n",
    "\n",
    "nines_array = np.full((2, 3), 9)\n",
    "print(nines_array)"
   ]
  },
  {
   "cell_type": "code",
   "execution_count": 28,
   "metadata": {},
   "outputs": [
    {
     "name": "stdout",
     "output_type": "stream",
     "text": [
      "[ 1.          7.66666667 14.33333333 21.        ]\n"
     ]
    }
   ],
   "source": [
    "# Numpy array of evenly spaced values\n",
    "\n",
    "linspace_array = np.linspace(1, 21, 4)\n",
    "print(linspace_array)"
   ]
  },
  {
   "cell_type": "code",
   "execution_count": 29,
   "metadata": {},
   "outputs": [
    {
     "name": "stdout",
     "output_type": "stream",
     "text": [
      "[ 1  5  9 13 17]\n"
     ]
    }
   ],
   "source": [
    "\n",
    "# Numpy array with number range\n",
    "\n",
    "range_array = np.arange(1, 21, 4)\n",
    "print(range_array)"
   ]
  },
  {
   "cell_type": "code",
   "execution_count": 30,
   "metadata": {},
   "outputs": [
    {
     "name": "stdout",
     "output_type": "stream",
     "text": [
      "[[0.18672511 0.71398921 0.76370009]\n",
      " [0.71733112 0.36613893 0.83824854]\n",
      " [0.2189517  0.16301313 0.70668101]]\n"
     ]
    }
   ],
   "source": [
    "# Random numpy array between 0 & 1\n",
    "\n",
    "ran_array = np.random.rand(3, 3)\n",
    "print(ran_array)"
   ]
  },
  {
   "cell_type": "code",
   "execution_count": 42,
   "metadata": {},
   "outputs": [
    {
     "name": "stdout",
     "output_type": "stream",
     "text": [
      "[[343 463  70]\n",
      " [408 342  46]\n",
      " [371 494  55]]\n",
      "2\n"
     ]
    }
   ],
   "source": [
    "# Random array between 1 & 499\n",
    "\n",
    "ran2_arr = np.random.randint(1, 500, (3, 3))\n",
    "print(ran2_arr)\n",
    "print(ran2_arr.ndim)"
   ]
  },
  {
   "cell_type": "code",
   "execution_count": 32,
   "metadata": {},
   "outputs": [
    {
     "name": "stdout",
     "output_type": "stream",
     "text": [
      "(2, 3)\n",
      "6\n",
      "2\n"
     ]
    }
   ],
   "source": [
    "# Shape, size and dimensions of array\n",
    "\n",
    "arr3 = np.array([[1, 2, 3],\n",
    "                 [4, 5, 6]])\n",
    "\n",
    "print(arr3.shape)\n",
    "print(arr3.size)\n",
    "print(arr3.ndim)"
   ]
  },
  {
   "cell_type": "code",
   "execution_count": 33,
   "metadata": {},
   "outputs": [
    {
     "name": "stdout",
     "output_type": "stream",
     "text": [
      "[9 8 7 6 5 4]\n",
      "[[9 8 7]\n",
      " [6 5 4]]\n"
     ]
    }
   ],
   "source": [
    "# Reshaping arrays\n",
    "\n",
    "og_array = np.array([9, 8, 7, 6, 5, 4])\n",
    "print(og_array)\n",
    "\n",
    "reshaped_array = og_array.reshape(2, 3)\n",
    "print(reshaped_array)"
   ]
  },
  {
   "cell_type": "code",
   "execution_count": 34,
   "metadata": {},
   "outputs": [
    {
     "name": "stdout",
     "output_type": "stream",
     "text": [
      "The sum of [1 2 3] and [4 5 6] is: [5 7 9]\n"
     ]
    }
   ],
   "source": [
    "arr1 = np.array([1, 2, 3])\n",
    "arr2 = np.array([4, 5, 6])\n",
    "\n",
    "print(f\"The sum of {arr1} and {arr2} is: {arr1 + arr2}\")"
   ]
  },
  {
   "cell_type": "code",
   "execution_count": 35,
   "metadata": {},
   "outputs": [
    {
     "name": "stdout",
     "output_type": "stream",
     "text": [
      "6\n",
      "1\n",
      "21\n"
     ]
    }
   ],
   "source": [
    "# min, max, sum\n",
    "\n",
    "arr = np.array([[1, 2, 3],\n",
    "                [4, 5, 6]])\n",
    "\n",
    "print(np.max(arr))\n",
    "print(np.min(arr))\n",
    "print(np.sum(arr))"
   ]
  },
  {
   "cell_type": "code",
   "execution_count": 36,
   "metadata": {},
   "outputs": [
    {
     "name": "stdout",
     "output_type": "stream",
     "text": [
      "A random number at index: (2, 2) is 9\n"
     ]
    }
   ],
   "source": [
    "# Array indexing\n",
    "\n",
    "arr = np.array([[1, 2, 3],\n",
    "                [4, 5, 6],\n",
    "                [7, 8, 9]])\n",
    "\n",
    "i = 2\n",
    "j = 2\n",
    "\n",
    "print(f\"A random number at index: ({i}, {j}) is {arr[i, j]}\")"
   ]
  },
  {
   "cell_type": "code",
   "execution_count": 37,
   "metadata": {},
   "outputs": [
    {
     "name": "stdout",
     "output_type": "stream",
     "text": [
      "[1 2 3 4 5 6 7 8 9]\n",
      "[[9 8 7]\n",
      " [6 5 4]]\n"
     ]
    }
   ],
   "source": [
    "# Slicing concept\n",
    "\n",
    "arr1 = np.array([9, 8, 7, 6, 5, 4, 3, 2, 1])\n",
    "print(arr1[::-1])\n",
    "\n",
    "\n",
    "arr2 = np.array([[9, 8, 7],\n",
    "                 [6, 5, 4],\n",
    "                 [3, 2, 1]])\n",
    "print(arr2[:-1:])"
   ]
  },
  {
   "cell_type": "code",
   "execution_count": 40,
   "metadata": {},
   "outputs": [
    {
     "name": "stdout",
     "output_type": "stream",
     "text": [
      "(array([7, 8]),)\n"
     ]
    }
   ],
   "source": [
    "# Conditional filtering\n",
    "\n",
    "arr = np.array([1, 2, 3, 4, 5, 6, 7, 8, 9])\n",
    "gibeth = np.where(arr > 7)\n",
    "\n",
    "print(gibeth)"
   ]
  },
  {
   "cell_type": "code",
   "execution_count": 39,
   "metadata": {},
   "outputs": [
    {
     "name": "stdout",
     "output_type": "stream",
     "text": [
      "[9 8 7 6 5 4 3 2 1]\n",
      "[9 5 3 2]\n",
      "[5 8 7 6 1 4 8 7 1]\n"
     ]
    }
   ],
   "source": [
    "arr1 = np.array([9, 8, 7, 6, 5, 4, 3, 2, 1])\n",
    "print(arr1)\n",
    "\n",
    "arr2 = np.take(arr1, [0, 4, 6, 7])\n",
    "print(arr2)\n",
    "\n",
    "np.put(arr1, [0, 4, 6, 7], [5, 1, 8, 7])\n",
    "print(arr1)"
   ]
  }
 ],
 "metadata": {
  "kernelspec": {
   "display_name": "Python 3",
   "language": "python",
   "name": "python3"
  },
  "language_info": {
   "codemirror_mode": {
    "name": "ipython",
    "version": 3
   },
   "file_extension": ".py",
   "mimetype": "text/x-python",
   "name": "python",
   "nbconvert_exporter": "python",
   "pygments_lexer": "ipython3",
   "version": "3.10.11"
  }
 },
 "nbformat": 4,
 "nbformat_minor": 2
}
