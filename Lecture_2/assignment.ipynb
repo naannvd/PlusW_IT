{
 "cells": [
  {
   "cell_type": "code",
   "execution_count": 2,
   "metadata": {},
   "outputs": [
    {
     "name": "stdout",
     "output_type": "stream",
     "text": [
      "Your first name in capitals is: \n",
      "Your last name in smalls is: \n",
      "Your name has 0 letters in it.\n"
     ]
    }
   ],
   "source": [
    "first_name = input (\"Enter your first name: \")\n",
    "last_name = input (\"Enter your last name: \")\n",
    "\n",
    "first_name = first_name.upper()\n",
    "last_name = last_name.lower()\n",
    "\n",
    "total_letters = len (first_name) + len (last_name)\n",
    "\n",
    "print (\"Your first name in capitals is:\", first_name)\n",
    "print (\"Your last name in smalls is:\", last_name)\n",
    "print (\"Your name has\", total_letters, \"letters in it.\")"
   ]
  },
  {
   "cell_type": "code",
   "execution_count": 3,
   "metadata": {},
   "outputs": [
    {
     "name": "stdout",
     "output_type": "stream",
     "text": [
      "\n",
      "         Calculating the area of the following shapes:\n",
      "         1. Circle\n",
      "         2. Rectangle\n",
      "         3. Square\n",
      "         4. Triangle\n",
      "         \n",
      "Finding the area of the Circle:\n",
      "The radius of the circle is 2.1\n",
      "The area of the Circle is: 13.8474\n",
      "\n",
      "Finding the area of the Rectangle:\n",
      "The length of the Rectangle is: 21.0\n",
      "The breadth of the Rectangle is: 32.0\n",
      "The area of the Rectangle is: 672.0\n",
      "\n",
      "Finding the area of the Square:\n",
      "The side of the square is 12.0\n",
      "The area of the Square is: 144.0\n",
      "\n",
      "Finding the area of the Triangle:\n",
      "The base of the triangle is 4.0\n",
      "The height of the triangle is 2.0\n",
      "The area of the Triangle is: 4.0\n"
     ]
    }
   ],
   "source": [
    "prompt = \"\"\"\n",
    "         Calculating the area of the following shapes:\n",
    "         1. Circle\n",
    "         2. Rectangle\n",
    "         3. Square\n",
    "         4. Triangle\n",
    "         \"\"\"\n",
    "\n",
    "print(prompt)\n",
    "\n",
    "\n",
    "print (\"Finding the area of the Circle:\")\n",
    "radius = float (input (\"Enter the radius of the circle: \"))\n",
    "print(f'The radius of the circle is {radius}')\n",
    "areaC = 3.14 * radius **2\n",
    "print (\"The area of the Circle is:\", areaC)\n",
    "\n",
    "\n",
    "print (\"\\nFinding the area of the Rectangle:\")\n",
    "length = float (input (\"Enter the length of the rectangle: \"))\n",
    "breadth = float (input (\"Enter the breadth of the rectangle: \"))\n",
    "areaR = length * breadth\n",
    "print (\"The length of the Rectangle is:\", length)\n",
    "print (\"The breadth of the Rectangle is:\", breadth)\n",
    "print (\"The area of the Rectangle is:\", areaR)\n",
    "\n",
    "\n",
    "print (\"\\nFinding the area of the Square:\")\n",
    "side = float (input (\"Enter the side of the square: \"))\n",
    "print(f'The side of the square is {side}')\n",
    "areaS = side **2\n",
    "print (\"The area of the Square is:\", areaS)\n",
    "\n",
    "\n",
    "print (\"\\nFinding the area of the Triangle:\")\n",
    "base = float (input (\"Enter the base of the triangle: \"))\n",
    "height = float (input (\"Enter the height of the triangle: \"))\n",
    "print(f'The base of the triangle is {base}')\n",
    "print(f'The height of the triangle is {height}')\n",
    "areaT = 0.5 * base * height\n",
    "print (\"The area of the Triangle is:\", areaT)\n",
    "\n"
   ]
  },
  {
   "cell_type": "code",
   "execution_count": 1,
   "metadata": {},
   "outputs": [
    {
     "name": "stdout",
     "output_type": "stream",
     "text": [
      "Chosen colour: green\n",
      "Generated_password: neerg\n"
     ]
    }
   ],
   "source": [
    "import random\n",
    "\n",
    "colours = [\"red\", \"blue\", \"green\", \"yellow\", \"orange\", \"purple\"]\n",
    "\n",
    "index = random.randint (0, len(colours) - 1)\n",
    "\n",
    "chosen_colour = colours [index]\n",
    "\n",
    "password = chosen_colour[::-1]\n",
    "\n",
    "print (\"Chosen colour:\", chosen_colour)\n",
    "print (\"Generated_password:\", password)"
   ]
  }
 ],
 "metadata": {
  "kernelspec": {
   "display_name": "Python 3",
   "language": "python",
   "name": "python3"
  },
  "language_info": {
   "codemirror_mode": {
    "name": "ipython",
    "version": 3
   },
   "file_extension": ".py",
   "mimetype": "text/x-python",
   "name": "python",
   "nbconvert_exporter": "python",
   "pygments_lexer": "ipython3",
   "version": "3.10.11"
  }
 },
 "nbformat": 4,
 "nbformat_minor": 2
}
