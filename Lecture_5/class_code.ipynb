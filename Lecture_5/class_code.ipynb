{
 "cells": [
  {
   "cell_type": "code",
   "execution_count": 81,
   "metadata": {},
   "outputs": [
    {
     "name": "stdout",
     "output_type": "stream",
     "text": [
      "32\n"
     ]
    }
   ],
   "source": [
    "#vector operation\n",
    "\n",
    "#dot product\n",
    "import numpy as np\n",
    "a = np.array([1,2,3])\n",
    "b = np.array([4,5,6])\n",
    "\n",
    "dot_product = np.dot(a,b)\n",
    "print(dot_product)  "
   ]
  },
  {
   "cell_type": "code",
   "execution_count": 82,
   "metadata": {},
   "outputs": [
    {
     "name": "stdout",
     "output_type": "stream",
     "text": [
      "[-3  6 -3]\n"
     ]
    }
   ],
   "source": [
    "#cross product\n",
    "import numpy as np\n",
    "a = np.array([1,2,3])\n",
    "b = np.array([4,5,6])\n",
    "\n",
    "cross_product = np.cross(a,b)\n",
    "print(cross_product)"
   ]
  },
  {
   "cell_type": "code",
   "execution_count": 83,
   "metadata": {},
   "outputs": [
    {
     "name": "stdout",
     "output_type": "stream",
     "text": [
      "3.605551275463989\n"
     ]
    }
   ],
   "source": [
    "#magnitude of vector\n",
    "a = np.array([2,3])\n",
    "magnitude = np.linalg.norm(a)\n",
    "print(magnitude)     #sqrt (2^2 + 3^2)"
   ]
  },
  {
   "cell_type": "code",
   "execution_count": 84,
   "metadata": {},
   "outputs": [
    {
     "name": "stdout",
     "output_type": "stream",
     "text": [
      "32\n",
      "32\n"
     ]
    }
   ],
   "source": [
    "#matrix multiplication\n",
    "a = np.array([1,2,3])\n",
    "b = np.array([4,5,6])\n",
    "\n",
    "result_mult = a@b\n",
    "print(result_mult)\n",
    "\n",
    "result1_mult = np.matmul(a,b)\n",
    "print(result1_mult)"
   ]
  },
  {
   "cell_type": "code",
   "execution_count": 85,
   "metadata": {},
   "outputs": [
    {
     "name": "stdout",
     "output_type": "stream",
     "text": [
      "[[1 4]\n",
      " [2 5]\n",
      " [3 6]]\n"
     ]
    }
   ],
   "source": [
    "#transpose of matrix\n",
    "a = np.array([[1,2,3],[4,5,6]])\n",
    "transpose_a = a.T\n",
    "print(transpose_a)"
   ]
  },
  {
   "cell_type": "code",
   "execution_count": 86,
   "metadata": {},
   "outputs": [
    {
     "name": "stdout",
     "output_type": "stream",
     "text": [
      "-2.0000000000000004\n"
     ]
    }
   ],
   "source": [
    "#determinant of matrix\n",
    "a = np.array([[1,2],[3,4]])\n",
    "determinant_a = np.linalg.det(a)\n",
    "print(determinant_a)"
   ]
  },
  {
   "cell_type": "code",
   "execution_count": 87,
   "metadata": {},
   "outputs": [
    {
     "name": "stdout",
     "output_type": "stream",
     "text": [
      "[[-2.   1. ]\n",
      " [ 1.5 -0.5]]\n"
     ]
    }
   ],
   "source": [
    "#inverse of the matrix\n",
    "\n",
    "# Take 'a' variable as an input\n",
    "#convert this code into function\n",
    "a = np.array([[1,2],[3,4]])\n",
    "inverse_a = np.linalg.inv(a)\n",
    "print(inverse_a)"
   ]
  },
  {
   "cell_type": "code",
   "execution_count": 88,
   "metadata": {},
   "outputs": [
    {
     "name": "stdout",
     "output_type": "stream",
     "text": [
      "[-0.37228132  5.37228132]\n",
      "[[-0.82456484 -0.41597356]\n",
      " [ 0.56576746 -0.90937671]]\n"
     ]
    }
   ],
   "source": [
    "#eigen values and eigen vectors\n",
    "a = np.array([[1,2],[3,4]])\n",
    "eigen_values, eigen_vectors = np.linalg.eig(a)\n",
    "print(eigen_values)\n",
    "print(eigen_vectors)"
   ]
  },
  {
   "cell_type": "code",
   "execution_count": 89,
   "metadata": {},
   "outputs": [
    {
     "name": "stdout",
     "output_type": "stream",
     "text": [
      "[-4.   4.5]\n"
     ]
    }
   ],
   "source": [
    "#Solving the Linear Equation\n",
    "a = np.array([[1,2],[3,4]])\n",
    "b = np.array([5,6])\n",
    "solution = np.linalg.solve(a,b)  #Ax = b\n",
    "print(solution)"
   ]
  },
  {
   "cell_type": "code",
   "execution_count": 90,
   "metadata": {},
   "outputs": [
    {
     "name": "stdout",
     "output_type": "stream",
     "text": [
      "[1 2 3 4 5 6]\n"
     ]
    }
   ],
   "source": [
    "#concatenate\n",
    "a = np.array([1,2,3])\n",
    "b = np.array([4,5,6])\n",
    "c = np.concatenate((a,b))\n",
    "print(c)"
   ]
  },
  {
   "cell_type": "code",
   "execution_count": 91,
   "metadata": {},
   "outputs": [
    {
     "name": "stdout",
     "output_type": "stream",
     "text": [
      "2\n"
     ]
    }
   ],
   "source": [
    "#vertical stacking\n",
    "\n",
    "a = np.array([1,2,3])\n",
    "b = np.array([4,5,6])\n",
    "c = np.vstack((a,b))\n",
    "print(c.ndim)\n",
    "\n"
   ]
  },
  {
   "cell_type": "code",
   "execution_count": 92,
   "metadata": {},
   "outputs": [
    {
     "name": "stdout",
     "output_type": "stream",
     "text": [
      "1\n"
     ]
    }
   ],
   "source": [
    "#horizontal stacking\n",
    "a = np.array([1,2,3])\n",
    "b = np.array([4,5,6])\n",
    "c = np.hstack((a,b))\n",
    "print(c.ndim)"
   ]
  },
  {
   "cell_type": "code",
   "execution_count": 93,
   "metadata": {},
   "outputs": [
    {
     "name": "stdout",
     "output_type": "stream",
     "text": [
      "3\n"
     ]
    }
   ],
   "source": [
    "#depth stacking\n",
    "\n",
    "a = np.array([[1,2], [3,4]])\n",
    "b = np.array([[4,5], [7,8]])\n",
    "c = np.dstack((a,b))\n",
    "print(c.ndim)"
   ]
  },
  {
   "cell_type": "code",
   "execution_count": 94,
   "metadata": {},
   "outputs": [
    {
     "name": "stdout",
     "output_type": "stream",
     "text": [
      "[array([1, 2]), array([3, 4]), array([5, 6])]\n",
      "[array([[1, 2]]), array([[3, 4]]), array([[5, 6]])]\n",
      "[array([[1],\n",
      "       [4]]), array([[2],\n",
      "       [5]]), array([[3],\n",
      "       [6]])]\n"
     ]
    }
   ],
   "source": [
    "#spliting arrays\n",
    "arr = np.array([1,2,3,4,5,6])\n",
    "split = np.split(arr,3)\n",
    "\n",
    "print(split)\n",
    "\n",
    "#vertical split (rows wise adjustment)\n",
    "a = np.array([[1,2],[3,4],[5,6]])\n",
    "v_split = np.vsplit(a,3)\n",
    "print(v_split)\n",
    "\n",
    "#horiontal split (column wise adjustment)\n",
    "b = np.array([[1,2,3],[4,5,6]])\n",
    "h_split = np.hsplit(b,3)\n",
    "print(h_split)\n"
   ]
  },
  {
   "cell_type": "code",
   "execution_count": 95,
   "metadata": {},
   "outputs": [
    {
     "name": "stdout",
     "output_type": "stream",
     "text": [
      "[[1 2 3 1 2 3 1 2 3]\n",
      " [1 2 3 1 2 3 1 2 3]]\n",
      "[1 1 1 2 2 2 3 3 3]\n"
     ]
    }
   ],
   "source": [
    "#tiling and repeating\n",
    "x = np.array([1,2,3])\n",
    "tile = np.tile(x,(2,3))\n",
    "print(tile)\n",
    "\n",
    "repeat = np.repeat(x,3)\n",
    "print(repeat)"
   ]
  },
  {
   "cell_type": "code",
   "execution_count": 96,
   "metadata": {},
   "outputs": [
    {
     "name": "stdout",
     "output_type": "stream",
     "text": [
      "Requirement already satisfied: pandas in c:\\users\\mrg18\\appdata\\local\\packages\\pythonsoftwarefoundation.python.3.10_qbz5n2kfra8p0\\localcache\\local-packages\\python310\\site-packages (2.2.3)\n",
      "Requirement already satisfied: tzdata>=2022.7 in c:\\users\\mrg18\\appdata\\local\\packages\\pythonsoftwarefoundation.python.3.10_qbz5n2kfra8p0\\localcache\\local-packages\\python310\\site-packages (from pandas) (2025.1)\n",
      "Requirement already satisfied: python-dateutil>=2.8.2 in c:\\users\\mrg18\\appdata\\local\\packages\\pythonsoftwarefoundation.python.3.10_qbz5n2kfra8p0\\localcache\\local-packages\\python310\\site-packages (from pandas) (2.9.0.post0)\n",
      "Requirement already satisfied: pytz>=2020.1 in c:\\users\\mrg18\\appdata\\local\\packages\\pythonsoftwarefoundation.python.3.10_qbz5n2kfra8p0\\localcache\\local-packages\\python310\\site-packages (from pandas) (2025.1)\n",
      "Requirement already satisfied: numpy>=1.22.4 in c:\\users\\mrg18\\appdata\\local\\packages\\pythonsoftwarefoundation.python.3.10_qbz5n2kfra8p0\\localcache\\local-packages\\python310\\site-packages (from pandas) (2.2.3)\n",
      "Requirement already satisfied: six>=1.5 in c:\\users\\mrg18\\appdata\\local\\packages\\pythonsoftwarefoundation.python.3.10_qbz5n2kfra8p0\\localcache\\local-packages\\python310\\site-packages (from python-dateutil>=2.8.2->pandas) (1.17.0)\n",
      "Note: you may need to restart the kernel to use updated packages.\n"
     ]
    },
    {
     "name": "stderr",
     "output_type": "stream",
     "text": [
      "\n",
      "[notice] A new release of pip is available: 23.0.1 -> 25.0.1\n",
      "[notice] To update, run: C:\\Users\\mrg18\\AppData\\Local\\Microsoft\\WindowsApps\\PythonSoftwareFoundation.Python.3.10_qbz5n2kfra8p0\\python.exe -m pip install --upgrade pip\n"
     ]
    }
   ],
   "source": [
    "#Pandas library\n",
    "%pip install pandas\n",
    "import pandas as pd"
   ]
  },
  {
   "cell_type": "code",
   "execution_count": 97,
   "metadata": {},
   "outputs": [
    {
     "name": "stdout",
     "output_type": "stream",
     "text": [
      "    Username   Identifier First name Last name\n",
      "0   booker12         9012     Rachel    Booker\n",
      "1     grey07         2070      Laura      Grey\n",
      "2  johnson81         4081      Craig   Johnson\n",
      "3  jenkins46         9346       Mary   Jenkins\n",
      "4    smith79         5079      Jamie     Smith\n"
     ]
    }
   ],
   "source": [
    "\n",
    "\n",
    "df = pd.read_csv('data.csv', delimiter=';')\n",
    "print(df)"
   ]
  },
  {
   "cell_type": "code",
   "execution_count": 98,
   "metadata": {},
   "outputs": [
    {
     "name": "stdout",
     "output_type": "stream",
     "text": [
      "Requirement already satisfied: xlrd in c:\\users\\mrg18\\appdata\\local\\packages\\pythonsoftwarefoundation.python.3.10_qbz5n2kfra8p0\\localcache\\local-packages\\python310\\site-packages (2.0.1)\n",
      "Note: you may need to restart the kernel to use updated packages.\n",
      "   0 First Name  Last Name  Gender        Country  Age        Date    Id\n",
      "0  1      Dulce      Abril  Female  United States   32  15/10/2017  1562\n",
      "1  2       Mara  Hashimoto  Female  Great Britain   25  16/08/2016  1582\n",
      "2  3     Philip       Gent    Male         France   36  21/05/2015  2587\n",
      "3  4   Kathleen     Hanner  Female  United States   25  15/10/2017  3549\n",
      "4  5    Nereida    Magwood  Female  United States   58  16/08/2016  2468\n",
      "5  6     Gaston      Brumm    Male  United States   24  21/05/2015  2554\n",
      "6  7       Etta       Hurn  Female  Great Britain   56  15/10/2017  3598\n",
      "7  8    Earlean     Melgar  Female  United States   27  16/08/2016  2456\n",
      "8  9   Vincenza    Weiland  Female  United States   40  21/05/2015  6548\n"
     ]
    },
    {
     "name": "stderr",
     "output_type": "stream",
     "text": [
      "\n",
      "[notice] A new release of pip is available: 23.0.1 -> 25.0.1\n",
      "[notice] To update, run: C:\\Users\\mrg18\\AppData\\Local\\Microsoft\\WindowsApps\\PythonSoftwareFoundation.Python.3.10_qbz5n2kfra8p0\\python.exe -m pip install --upgrade pip\n"
     ]
    }
   ],
   "source": [
    "%pip install xlrd\n",
    "df_excel =pd.read_excel(\"data.xls\")\n",
    "print(df_excel)"
   ]
  },
  {
   "cell_type": "code",
   "execution_count": 99,
   "metadata": {},
   "outputs": [
    {
     "name": "stdout",
     "output_type": "stream",
     "text": [
      "                                                    menu\n",
      "id                                                  file\n",
      "value                                               File\n",
      "popup  {'menuitem': [{'value': 'New', 'onclick': 'Cre...\n"
     ]
    }
   ],
   "source": [
    "import json\n",
    "df_json = pd.read_json(\"data.json\")\n",
    "print(df_json)"
   ]
  },
  {
   "cell_type": "code",
   "execution_count": 100,
   "metadata": {},
   "outputs": [
    {
     "name": "stdout",
     "output_type": "stream",
     "text": [
      "   part_id       part_name  manufacture_plant_id manufacture_start_date  \\\n",
      "0        1     2.6L Engine                     1             2012-08-12   \n",
      "1        2     3.0L Engine                     2             2012-07-10   \n",
      "2        3     2.4L Engine                     5             2012-08-12   \n",
      "3        4  Jetrag 6 Speed                     5             2012-02-11   \n",
      "4        5      Bose Audio                     1             2014-08-02   \n",
      "5        6     4WD Chassis                     2             2000-08-29   \n",
      "6        7     2WD Chassis                     2             2005-12-20   \n",
      "\n",
      "  manufacture_end_date  part_recall  \n",
      "0           2013-08-12            0  \n",
      "1           2017-02-20            0  \n",
      "2           2013-08-12            0  \n",
      "3           2013-08-12            0  \n",
      "4           2015-03-12            0  \n",
      "5           2017-05-12            0  \n",
      "6           2017-11-01            0  \n"
     ]
    }
   ],
   "source": [
    "import sqlite3\n",
    "\n",
    "conn = sqlite3.connect(\"data.db\")\n",
    "df_sqlite = pd.read_sql_query(\"SELECT * FROM Car_Parts\", conn)\n",
    "print(df_sqlite)"
   ]
  },
  {
   "cell_type": "code",
   "execution_count": 101,
   "metadata": {},
   "outputs": [
    {
     "name": "stdout",
     "output_type": "stream",
     "text": [
      "    Username   Identifier First name Last name\n",
      "0   booker12         9012     Rachel    Booker\n",
      "1     grey07         2070      Laura      Grey\n",
      "2  johnson81         4081      Craig   Johnson\n",
      "3  jenkins46         9346       Mary   Jenkins\n",
      "4    smith79         5079      Jamie     Smith\n"
     ]
    }
   ],
   "source": [
    "chunksize = 200\n",
    "\n",
    "for chunk in pd.read_csv(\"data.csv\", delimiter=';', chunksize=chunksize):\n",
    "    print(chunk.head())  #first 5 rows / lines\n"
   ]
  },
  {
   "cell_type": "code",
   "execution_count": 102,
   "metadata": {},
   "outputs": [
    {
     "name": "stdout",
     "output_type": "stream",
     "text": [
      "    Username   Identifier First name Last name\n",
      "0   booker12         9012     Rachel    Booker\n",
      "1     grey07         2070      Laura      Grey\n",
      "2  johnson81         4081      Craig   Johnson\n",
      "3  jenkins46         9346       Mary   Jenkins\n",
      "4    smith79         5079      Jamie     Smith\n"
     ]
    }
   ],
   "source": [
    "#optimize memory usage by converting data types\n",
    "df['Username'] = df['Username'].astype('category')\n",
    "\n",
    "print(df)\n"
   ]
  },
  {
   "cell_type": "code",
   "execution_count": 103,
   "metadata": {},
   "outputs": [],
   "source": [
    "#Save all my csv files move into backup folder\n",
    "\n",
    "import os, glob, shutil\n",
    "import pandas as pd\n",
    "\n",
    "csv_files = glob.glob('*.csv')\n",
    "\n",
    "for csv_file in csv_files:\n",
    "    shutil.copy(csv_file, 'backup_folder')"
   ]
  },
  {
   "cell_type": "code",
   "execution_count": 104,
   "metadata": {},
   "outputs": [
    {
     "name": "stdout",
     "output_type": "stream",
     "text": [
      "      Name   Age   Salary\n",
      "0    Alice  25.0  50000.0\n",
      "1      Bob  30.0  60000.0\n",
      "2  Charlie  35.0      NaN\n",
      "3     None   NaN  70000.0\n"
     ]
    }
   ],
   "source": [
    "# Sample DataFrame\n",
    "data = {'Name': ['Alice', 'Bob', 'Charlie', None], 'Age': [25, 30, 35, None], 'Salary': [50000, 60000, None, 70000]}\n",
    "df = pd.DataFrame(data)\n",
    "# Preview dataset\n",
    "print(df.head())\n",
    "\n"
   ]
  },
  {
   "cell_type": "code",
   "execution_count": 105,
   "metadata": {},
   "outputs": [
    {
     "name": "stdout",
     "output_type": "stream",
     "text": [
      "<class 'pandas.core.frame.DataFrame'>\n",
      "RangeIndex: 4 entries, 0 to 3\n",
      "Data columns (total 3 columns):\n",
      " #   Column  Non-Null Count  Dtype  \n",
      "---  ------  --------------  -----  \n",
      " 0   Name    3 non-null      object \n",
      " 1   Age     3 non-null      float64\n",
      " 2   Salary  3 non-null      float64\n",
      "dtypes: float64(2), object(1)\n",
      "memory usage: 224.0+ bytes\n",
      "None\n"
     ]
    }
   ],
   "source": [
    "print(df.info())"
   ]
  },
  {
   "cell_type": "code",
   "execution_count": 106,
   "metadata": {},
   "outputs": [
    {
     "name": "stdout",
     "output_type": "stream",
     "text": [
      "Name       object\n",
      "Age       float64\n",
      "Salary    float64\n",
      "dtype: object\n",
      "      Name   Age   Salary\n",
      "0    Alice  25.0  50000.0\n",
      "2  Charlie  35.0      NaN\n"
     ]
    }
   ],
   "source": [
    "print(df.dtypes)\n",
    "print(df.sample(2))"
   ]
  },
  {
   "cell_type": "code",
   "execution_count": 107,
   "metadata": {},
   "outputs": [
    {
     "name": "stdout",
     "output_type": "stream",
     "text": [
      "<bound method Series.sum of 0    False\n",
      "1    False\n",
      "2    False\n",
      "3    False\n",
      "dtype: bool>\n"
     ]
    }
   ],
   "source": [
    "# print(df.isnull().sum) #missing values\n",
    "print(df.duplicated().sum)\n",
    "boxplot = df.boxplot() #checking outliers"
   ]
  },
  {
   "cell_type": "code",
   "execution_count": 108,
   "metadata": {},
   "outputs": [
    {
     "name": "stdout",
     "output_type": "stream",
     "text": [
      "Name       object\n",
      "Age       float64\n",
      "Salary    float64\n",
      "dtype: object\n"
     ]
    }
   ],
   "source": [
    "print(df.dtypes)"
   ]
  },
  {
   "cell_type": "code",
   "execution_count": 109,
   "metadata": {},
   "outputs": [
    {
     "name": "stdout",
     "output_type": "stream",
     "text": [
      "    Name   Age   Salary\n",
      "0  Alice  25.0  50000.0\n",
      "1    Bob  30.0  60000.0\n",
      "      Name   Age   Salary\n",
      "0    Alice  25.0  50000.0\n",
      "1      Bob  30.0  60000.0\n",
      "2  Charlie  35.0  60000.0\n",
      "3     None  30.0  70000.0\n"
     ]
    }
   ],
   "source": [
    "print(df.dropna()) #remove missing values\n",
    "df_filled = df.fillna(df.select_dtypes(include=['float64']).mean())\n",
    "\n",
    "print(df_filled)\n"
   ]
  },
  {
   "cell_type": "code",
   "execution_count": 110,
   "metadata": {},
   "outputs": [
    {
     "name": "stdout",
     "output_type": "stream",
     "text": [
      "Name       object\n",
      "Age       float64\n",
      "Salary    float64\n",
      "dtype: object\n"
     ]
    }
   ],
   "source": [
    "print(df.dtypes)"
   ]
  },
  {
   "cell_type": "code",
   "execution_count": 111,
   "metadata": {},
   "outputs": [
    {
     "name": "stdout",
     "output_type": "stream",
     "text": [
      "        Age  Salary\n",
      "Age     1.0     1.0\n",
      "Salary  1.0     1.0\n"
     ]
    }
   ],
   "source": [
    "\n",
    "df_numeric = df.drop(columns=['Name'])  # Replace with actual column names\n",
    "print(df_numeric.corr())\n"
   ]
  },
  {
   "cell_type": "code",
   "execution_count": 112,
   "metadata": {},
   "outputs": [
    {
     "name": "stdout",
     "output_type": "stream",
     "text": [
      "          Age   Salary\n",
      "Name                  \n",
      "Alice    25.0  50000.0\n",
      "Bob      30.0  60000.0\n",
      "Charlie  35.0      NaN\n"
     ]
    }
   ],
   "source": [
    "print(df.groupby('Name').mean())"
   ]
  },
  {
   "cell_type": "code",
   "execution_count": 113,
   "metadata": {},
   "outputs": [
    {
     "name": "stdout",
     "output_type": "stream",
     "text": [
      "Original DataFrame:\n",
      "      Name   Age   Salary\n",
      "0    Alice  25.0  50000.0\n",
      "1      Bob  30.0  60000.0\n",
      "2  Charlie  35.0  70000.0\n",
      "3    David  40.0  80000.0\n",
      "4      Eva  45.0      NaN\n",
      "5    Alice   NaN  50000.0\n",
      "\n",
      "DataFrame After Dropping Missing Values:\n",
      "      Name   Age   Salary\n",
      "0    Alice  25.0  50000.0\n",
      "1      Bob  30.0  60000.0\n",
      "2  Charlie  35.0  70000.0\n",
      "3    David  40.0  80000.0\n",
      "\n",
      "DataFrame After Filling Missing Values with Mean:\n",
      "      Name   Age   Salary\n",
      "0    Alice  25.0  50000.0\n",
      "1      Bob  30.0  60000.0\n",
      "2  Charlie  35.0  70000.0\n",
      "3    David  40.0  80000.0\n",
      "4      Eva  45.0  62000.0\n",
      "5    Alice  35.0  50000.0\n",
      "\n",
      "DataFrame After Removing Duplicates:\n",
      "      Name   Age   Salary\n",
      "0    Alice  25.0  50000.0\n",
      "1      Bob  30.0  60000.0\n",
      "2  Charlie  35.0  70000.0\n",
      "3    David  40.0  80000.0\n",
      "4      Eva  45.0      NaN\n",
      "5    Alice   NaN  50000.0\n",
      "\n",
      "DataFrame After Changing Data Type of 'Age' to Int64:\n"
     ]
    }
   ],
   "source": [
    "import pandas as pd\n",
    "# Sample DataFrame with missing values and duplicates\n",
    "data = {\n",
    "    'Name': ['Alice', 'Bob', 'Charlie', 'David', 'Eva', 'Alice'],\n",
    "    'Age': [25, 30, 35, 40, 45, None],  # Notice missing value for Age\n",
    "    'Salary': [50000, 60000, 70000, 80000, None, 50000]  # Notice missing value for Salary\n",
    "}\n",
    "# Create DataFrame\n",
    "df = pd.DataFrame(data)\n",
    "# Display original DataFrame\n",
    "print(\"Original DataFrame:\")\n",
    "print(df)\n",
    "# Remove missing values (drop rows with any NaN values)\n",
    "df_cleaned = df.dropna()\n",
    "print(\"\\nDataFrame After Dropping Missing Values:\")\n",
    "print(df_cleaned)\n",
    "# Fill missing values with the mean of the column (only for numeric columns)\n",
    "df_filled = df.copy()\n",
    "df_filled['Salary'] = df_filled['Salary'].fillna(df_filled['Salary'].mean())\n",
    "df_filled['Age'] = df_filled['Age'].fillna(df_filled['Age'].mean())\n",
    "print(\"\\nDataFrame After Filling Missing Values with Mean:\")\n",
    "print(df_filled)\n",
    "# Remove duplicate rows (based on all columns)\n",
    "df_unique = df.drop_duplicates()\n",
    "print(\"\\nDataFrame After Removing Duplicates:\")\n",
    "print(df_unique)\n",
    "# Change the data type of 'Age' column to Int64 (nullable integer type)\n",
    "df['Age'] = df['Age'].astype('Int64')  # Nullable integer type\n",
    "print(\"\\nDataFrame After Changing Data Type of 'Age' to Int64:\")\n",
    "\n"
   ]
  },
  {
   "cell_type": "code",
   "execution_count": 114,
   "metadata": {},
   "outputs": [
    {
     "name": "stdout",
     "output_type": "stream",
     "text": [
      "Correlation Matrix:\n",
      "             Age    Salary\n",
      "Age     1.000000  0.939948\n",
      "Salary  0.939948  1.000000\n",
      "\n",
      "Grouped Data (Mean of Age and Salary by Name):\n",
      "      Name   Age   Salary\n",
      "0    Alice  25.0  50000.0\n",
      "1      Bob  30.0  60000.0\n",
      "2  Charlie  35.0  70000.0\n",
      "3    David  40.0  80000.0\n",
      "4      Eva  45.0  75000.0\n"
     ]
    }
   ],
   "source": [
    "import pandas as pd\n",
    "# Sample DataFrame\n",
    "data = {\n",
    "    'Name': ['Alice', 'Bob', 'Charlie', 'David', 'Eva', 'Alice'],\n",
    "    'Age': [25, 30, 35, 40, 45, 25],  # Alice appears twice\n",
    "    'Salary': [50000, 60000, 70000, 80000, 75000, 50000]\n",
    "}\n",
    "# Create DataFrame\n",
    "df = pd.DataFrame(data)\n",
    "# Checking Correlations between numeric columns (excluding 'Name')\n",
    "print(\"Correlation Matrix:\")\n",
    "print(df[['Age', 'Salary']].corr())  # Only pass numeric columns for correlation calculation\n",
    "# Grouping by 'Name' and calculating the mean of other columns\n",
    "print(\"\\nGrouped Data (Mean of Age and Salary by Name):\")\n",
    "print(df.groupby('Name', as_index=False).mean())\n",
    "\n"
   ]
  }
 ],
 "metadata": {
  "kernelspec": {
   "display_name": "Python 3",
   "language": "python",
   "name": "python3"
  },
  "language_info": {
   "codemirror_mode": {
    "name": "ipython",
    "version": 3
   },
   "file_extension": ".py",
   "mimetype": "text/x-python",
   "name": "python",
   "nbconvert_exporter": "python",
   "pygments_lexer": "ipython3",
   "version": "3.10.11"
  }
 },
 "nbformat": 4,
 "nbformat_minor": 2
}
