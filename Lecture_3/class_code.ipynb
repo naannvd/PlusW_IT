{
 "cells": [
  {
   "cell_type": "code",
   "execution_count": 1,
   "metadata": {},
   "outputs": [
    {
     "name": "stdout",
     "output_type": "stream",
     "text": [
      "You are eligible for the vote\n"
     ]
    }
   ],
   "source": [
    "\n",
    "# Condtional statement\n",
    "\n",
    "age = int(input(\"Enter your age: \"))\n",
    "if age >= 21:\n",
    "  print(\"You are eligible for the vote\")"
   ]
  },
  {
   "cell_type": "code",
   "execution_count": 2,
   "metadata": {},
   "outputs": [
    {
     "name": "stdout",
     "output_type": "stream",
     "text": [
      "You are eligible for the vote\n"
     ]
    }
   ],
   "source": [
    "\n",
    "# If-else statement\n",
    "\n",
    "age = input (\"Enter your age: \")\n",
    "if int(age) >= 21:\n",
    "  print (\"You are eligible for the vote\")\n",
    "else:\n",
    "  print (\"You are not eligible for the vote\")"
   ]
  },
  {
   "cell_type": "code",
   "execution_count": 3,
   "metadata": {},
   "outputs": [
    {
     "name": "stdout",
     "output_type": "stream",
     "text": [
      "Grade: C\n"
     ]
    }
   ],
   "source": [
    "# If-else and elif statement\n",
    "\n",
    "marks = 70\n",
    "if marks >= 90:\n",
    "  print(\"Grade: A\")\n",
    "elif marks >= 80:\n",
    "  print(\"Grade: B\")\n",
    "elif marks >= 70:\n",
    "  print(\"Grade: C\")\n",
    "elif marks >= 60:\n",
    "  print(\"Grade: D\")\n",
    "else:\n",
    "  print(\"Grade: F\")"
   ]
  },
  {
   "cell_type": "code",
   "execution_count": 4,
   "metadata": {},
   "outputs": [
    {
     "name": "stdout",
     "output_type": "stream",
     "text": [
      "Number is positive\n"
     ]
    }
   ],
   "source": [
    "# Nested if statement\n",
    "\n",
    "num = int(input(\"Enter a number: \")) # 10, -1\n",
    "if num >=0:\n",
    "  if num == 0:\n",
    "    print(\"Number is zero\")\n",
    "  else:\n",
    "    print(\"Number is positive\")\n",
    "else:\n",
    "  print(\"Number is negative\")"
   ]
  },
  {
   "cell_type": "code",
   "execution_count": 5,
   "metadata": {},
   "outputs": [
    {
     "name": "stdout",
     "output_type": "stream",
     "text": [
      "The even number 10 is greater than 5\n"
     ]
    }
   ],
   "source": [
    "# Conditions\n",
    "\n",
    "num = 10\n",
    "\n",
    "if num > 5:\n",
    "  if num % 2 == 0:\n",
    "    print(f\"The even number {num} is greater than 5\")\n",
    "  else:\n",
    "    print(f\"The odd number {num} is greater than 5\")"
   ]
  },
  {
   "cell_type": "code",
   "execution_count": 6,
   "metadata": {},
   "outputs": [
    {
     "name": "stdout",
     "output_type": "stream",
     "text": [
      "You are not eligible to vote\n"
     ]
    }
   ],
   "source": [
    "is_adult = True\n",
    "has_voter_id = False\n",
    "\n",
    "if is_adult and has_voter_id:\n",
    "  print(\"You are eligible to vote\")\n",
    "else:\n",
    "  print(\"You are not eligible to vote\")"
   ]
  },
  {
   "cell_type": "code",
   "execution_count": 7,
   "metadata": {},
   "outputs": [
    {
     "name": "stdout",
     "output_type": "stream",
     "text": [
      "Adult\n"
     ]
    }
   ],
   "source": [
    "# Ternary Operator\n",
    "# A shorthand way of writing a single if-else statement\n",
    "\n",
    "age = 30\n",
    "\n",
    "message = \"Adult\" if age >= 18 else \"Not Adult\"\n",
    "print(message)"
   ]
  },
  {
   "cell_type": "code",
   "execution_count": 8,
   "metadata": {},
   "outputs": [
    {
     "name": "stdout",
     "output_type": "stream",
     "text": [
      "challan sorry\n"
     ]
    }
   ],
   "source": [
    "# Match-case\n",
    "# Traffic Signal\n",
    "\n",
    "colour = input(\"Enter the colour:\")\n",
    "colour = colour.lower()\n",
    "\n",
    "match colour:\n",
    "  case 'red':\n",
    "    print(\"Stop\")\n",
    "  case 'yellow':\n",
    "    print(\"Get ready\")\n",
    "  case 'green':\n",
    "    print(\"Go\")\n",
    "  case _:\n",
    "    print(\"challan sorry\")"
   ]
  },
  {
   "cell_type": "code",
   "execution_count": 9,
   "metadata": {},
   "outputs": [
    {
     "name": "stdout",
     "output_type": "stream",
     "text": [
      "Apples\n",
      "Oranges\n",
      "Mangoes\n"
     ]
    }
   ],
   "source": [
    "fruits = [\"Apples\", \"Oranges\", \"Mangoes\"]\n",
    "\n",
    "for myChoice in fruits:\n",
    "  print(myChoice)"
   ]
  },
  {
   "cell_type": "code",
   "execution_count": 10,
   "metadata": {},
   "outputs": [
    {
     "name": "stdout",
     "output_type": "stream",
     "text": [
      "H\n",
      "e\n",
      "l\n",
      "l\n",
      "o\n",
      " \n",
      "b\n",
      "a\n",
      "b\n",
      "a\n",
      " \n"
     ]
    }
   ],
   "source": [
    "meme = \"Hello baba \"\n",
    "for memes in meme:\n",
    "  print(memes)"
   ]
  },
  {
   "cell_type": "code",
   "execution_count": 26,
   "metadata": {},
   "outputs": [
    {
     "name": "stdout",
     "output_type": "stream",
     "text": [
      "Fruit: Banana\n",
      "Car: Toyota\n",
      "Vegetable: Potat\n"
     ]
    }
   ],
   "source": [
    "connections = {\"Fruit\":\"Banana\", \"Car\":\"Toyota\", \"Vegetable\":\"Potat\"}\n",
    "\n",
    "for item, type in connections.items():\n",
    "  print(f\"{item}: {type}\")"
   ]
  },
  {
   "cell_type": "code",
   "execution_count": 12,
   "metadata": {},
   "outputs": [
    {
     "name": "stdout",
     "output_type": "stream",
     "text": [
      "1\n",
      "2\n",
      "3\n",
      "4\n",
      "5\n",
      "6\n",
      "7\n",
      "8\n",
      "9\n",
      "10\n"
     ]
    }
   ],
   "source": [
    "# range\n",
    "\n",
    "for i in range(1, 11): # 11 is not include in the output\n",
    "  print(i)"
   ]
  },
  {
   "cell_type": "code",
   "execution_count": 13,
   "metadata": {},
   "outputs": [
    {
     "name": "stdout",
     "output_type": "stream",
     "text": [
      "Count: 0\n",
      "Count: 1\n",
      "Count: 2\n",
      "Count: 3\n",
      "Count: 4\n"
     ]
    }
   ],
   "source": [
    "# while loop\n",
    "\n",
    "count = 0;\n",
    "\n",
    "while count < 5:\n",
    "  print(f\"Count: {count}\")\n",
    "  count += 1"
   ]
  },
  {
   "cell_type": "code",
   "execution_count": 14,
   "metadata": {},
   "outputs": [
    {
     "name": "stdout",
     "output_type": "stream",
     "text": [
      "\n",
      "Exiting the loop\n"
     ]
    }
   ],
   "source": [
    "# run a loop infine times\n",
    "\n",
    "while True:\n",
    "  user_input = input(\"Press 'q' to exit \")\n",
    "  if user_input == \"q\":\n",
    "    print(\"\\nExiting the loop\")\n",
    "    break"
   ]
  },
  {
   "cell_type": "code",
   "execution_count": 15,
   "metadata": {},
   "outputs": [
    {
     "name": "stdout",
     "output_type": "stream",
     "text": [
      "0\n",
      "1\n",
      "2\n",
      "3\n",
      "4\n",
      "6\n",
      "7\n",
      "8\n",
      "9\n"
     ]
    }
   ],
   "source": [
    "for i in range(10):\n",
    "  if i == 5:\n",
    "    continue\n",
    "  print(i)\n",
    "     "
   ]
  },
  {
   "cell_type": "code",
   "execution_count": 16,
   "metadata": {},
   "outputs": [
    {
     "name": "stdout",
     "output_type": "stream",
     "text": [
      "0 0\n",
      "0 1\n",
      "0 2\n",
      "1 0\n",
      "1 1\n",
      "1 2\n",
      "2 0\n",
      "2 1\n",
      "2 2\n"
     ]
    }
   ],
   "source": [
    "# a loop inside a loop\n",
    "\n",
    "for i in range(3):\n",
    "  for j in range(3):\n",
    "    print(i, j)"
   ]
  },
  {
   "cell_type": "code",
   "execution_count": 17,
   "metadata": {},
   "outputs": [
    {
     "name": "stdout",
     "output_type": "stream",
     "text": [
      "1 x 1 = 1\n",
      "2 x 1 = 2\n",
      "3 x 1 = 3\n",
      "4 x 1 = 4\n",
      "5 x 1 = 5\n",
      "6 x 1 = 6\n",
      "7 x 1 = 7\n",
      "8 x 1 = 8\n",
      "9 x 1 = 9\n",
      "10 x 1 = 10\n",
      "11 x 1 = 11\n",
      "12 x 1 = 12\n",
      "\n",
      "1 x 2 = 2\n",
      "2 x 2 = 4\n",
      "3 x 2 = 6\n",
      "4 x 2 = 8\n",
      "5 x 2 = 10\n",
      "6 x 2 = 12\n",
      "7 x 2 = 14\n",
      "8 x 2 = 16\n",
      "9 x 2 = 18\n",
      "10 x 2 = 20\n",
      "11 x 2 = 22\n",
      "12 x 2 = 24\n",
      "\n",
      "1 x 3 = 3\n",
      "2 x 3 = 6\n",
      "3 x 3 = 9\n",
      "4 x 3 = 12\n",
      "5 x 3 = 15\n",
      "6 x 3 = 18\n",
      "7 x 3 = 21\n",
      "8 x 3 = 24\n",
      "9 x 3 = 27\n",
      "10 x 3 = 30\n",
      "11 x 3 = 33\n",
      "12 x 3 = 36\n",
      "\n",
      "1 x 4 = 4\n",
      "2 x 4 = 8\n",
      "3 x 4 = 12\n",
      "4 x 4 = 16\n",
      "5 x 4 = 20\n",
      "6 x 4 = 24\n",
      "7 x 4 = 28\n",
      "8 x 4 = 32\n",
      "9 x 4 = 36\n",
      "10 x 4 = 40\n",
      "11 x 4 = 44\n",
      "12 x 4 = 48\n",
      "\n",
      "1 x 5 = 5\n",
      "2 x 5 = 10\n",
      "3 x 5 = 15\n",
      "4 x 5 = 20\n",
      "5 x 5 = 25\n",
      "6 x 5 = 30\n",
      "7 x 5 = 35\n",
      "8 x 5 = 40\n",
      "9 x 5 = 45\n",
      "10 x 5 = 50\n",
      "11 x 5 = 55\n",
      "12 x 5 = 60\n",
      "\n"
     ]
    }
   ],
   "source": [
    "for i in range(1, 6): # outer loop\n",
    "  for j in range(1, 13): # inner loop\n",
    "    print(f\"{j} x {i} = {i * j}\")\n",
    "  print()\n",
    "     "
   ]
  },
  {
   "cell_type": "code",
   "execution_count": 18,
   "metadata": {},
   "outputs": [
    {
     "name": "stdout",
     "output_type": "stream",
     "text": [
      "0\n",
      "1\n",
      "2\n",
      "3\n",
      "4\n",
      "Finished\n"
     ]
    }
   ],
   "source": [
    "\n",
    "# loop else statement\n",
    "\n",
    "for i in range(5):\n",
    "  print(i)\n",
    "else:\n",
    "  print(\"Finished\")"
   ]
  },
  {
   "cell_type": "code",
   "execution_count": 19,
   "metadata": {},
   "outputs": [
    {
     "name": "stdout",
     "output_type": "stream",
     "text": [
      "Error: your search item 7 was not found\n"
     ]
    }
   ],
   "source": [
    "# search functionality\n",
    "\n",
    "num = [1,2,3,4,5]\n",
    "search = 7\n",
    "\n",
    "for nums in num:\n",
    "  if nums == search:\n",
    "    print(f\"Congratulations: found {search}\")\n",
    "    break\n",
    "else:\n",
    "  print(f\"Error: your search item {search} was not found\")"
   ]
  },
  {
   "cell_type": "code",
   "execution_count": 20,
   "metadata": {},
   "outputs": [
    {
     "name": "stdout",
     "output_type": "stream",
     "text": [
      "Assalam u Alaikum, I am learning Python with instructor Umair\n"
     ]
    }
   ],
   "source": [
    "# defining a functions in Python\n",
    "\n",
    "def greet():\n",
    "  print(\"Assalam u Alaikum, I am learning Python with instructor Umair\")\n",
    "\n",
    "greet()"
   ]
  },
  {
   "cell_type": "code",
   "execution_count": 21,
   "metadata": {},
   "outputs": [
    {
     "name": "stdout",
     "output_type": "stream",
     "text": [
      "Assalam u Alaikum, Naan is learning Python\n"
     ]
    }
   ],
   "source": [
    "def greet(name):\n",
    "  print(f\"Assalam u Alaikum, {name} is learning Python\")\n",
    "\n",
    "greet(\"Naan\")"
   ]
  },
  {
   "cell_type": "code",
   "execution_count": 22,
   "metadata": {},
   "outputs": [
    {
     "name": "stdout",
     "output_type": "stream",
     "text": [
      "8\n",
      "\n",
      "Name: dsddsd, Age: 32\n"
     ]
    }
   ],
   "source": [
    "def add(a, b):\n",
    "  return a + b\n",
    "print(add(3, 5))\n",
    "\n",
    "def display_info(name, age = 101):\n",
    "  print(f\"\\nName: {name}, Age: {age}\")\n",
    "display_info(name = \"dsddsd\", age = 32)"
   ]
  },
  {
   "cell_type": "code",
   "execution_count": 23,
   "metadata": {},
   "outputs": [
    {
     "name": "stdout",
     "output_type": "stream",
     "text": [
      "None\n"
     ]
    }
   ],
   "source": [
    "def my_functionato():\n",
    "  pass\n",
    "\n",
    "result = my_functionato()\n",
    "print(result)"
   ]
  },
  {
   "cell_type": "code",
   "execution_count": 24,
   "metadata": {},
   "outputs": [
    {
     "name": "stdout",
     "output_type": "stream",
     "text": [
      "1\n",
      "2\n",
      "3\n",
      "4\n",
      "5\n",
      "name: gfdgdgdgfg\n",
      "age: 101\n"
     ]
    }
   ],
   "source": [
    "def print_arg(*args):\n",
    "  for arg in args:\n",
    "    print(arg)\n",
    "print_arg(1, 2, 3, 4, 5)\n",
    "\n",
    "def print_kwargs(**kwargs):\n",
    "  for key, value in kwargs.items():\n",
    "    print(f\"{key}: {value}\")\n",
    "print_kwargs(name = \"gfdgdgdgfg\", age = 101)"
   ]
  },
  {
   "cell_type": "code",
   "execution_count": 25,
   "metadata": {},
   "outputs": [
    {
     "name": "stdout",
     "output_type": "stream",
     "text": [
      "25\n"
     ]
    }
   ],
   "source": [
    "# lambda function\n",
    "# one liner function\n",
    "\n",
    "square = lambda x: x ** 2\n",
    "print(square(5))   # x = 5"
   ]
  }
 ],
 "metadata": {
  "kernelspec": {
   "display_name": "Python 3",
   "language": "python",
   "name": "python3"
  },
  "language_info": {
   "codemirror_mode": {
    "name": "ipython",
    "version": 3
   },
   "file_extension": ".py",
   "mimetype": "text/x-python",
   "name": "python",
   "nbconvert_exporter": "python",
   "pygments_lexer": "ipython3",
   "version": "3.10.11"
  }
 },
 "nbformat": 4,
 "nbformat_minor": 2
}
