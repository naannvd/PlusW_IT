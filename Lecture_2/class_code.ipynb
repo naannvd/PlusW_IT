{
 "cells": [
  {
   "cell_type": "code",
   "execution_count": 6,
   "metadata": {},
   "outputs": [
    {
     "name": "stdout",
     "output_type": "stream",
     "text": [
      "This is my second class of Python language\n"
     ]
    }
   ],
   "source": [
    "if True:\n",
    "  print(\"This is my second class of Python language\")\n",
    "\n"
   ]
  },
  {
   "cell_type": "code",
   "execution_count": 7,
   "metadata": {},
   "outputs": [
    {
     "name": "stdout",
     "output_type": "stream",
     "text": [
      "My name is asddfesdfsd\n",
      "My age is 22256\n",
      "3.14159\n"
     ]
    }
   ],
   "source": [
    "name = 'asddfesdfsd'\n",
    "age = 22256\n",
    "\n",
    "PI = 3.14159 # constant (capital)\n",
    "\n",
    "print (\"My name is\", name)\n",
    "print (\"My age is\", age)\n",
    "print (PI)"
   ]
  },
  {
   "cell_type": "code",
   "execution_count": 8,
   "metadata": {},
   "outputs": [
    {
     "name": "stdout",
     "output_type": "stream",
     "text": [
      "My name is Nahyaan\n",
      "<class 'str'>\n",
      "Real number is 4.0\n",
      "Imaginary number is 3.0\n"
     ]
    }
   ],
   "source": [
    "# Input and output function\n",
    "name = input (\"Enter your name: \") # input function\n",
    "print (\"My name is\", name) # output function\n",
    "\n",
    "print (type(name))\n",
    "\n",
    "\n",
    "# Primitive data type\n",
    "x = 10 # integer\n",
    "y = 10.01 # float\n",
    "z = 4 +3j # imaginary\n",
    "\n",
    "print (\"Real number is\", z.real)\n",
    "print (\"Imaginary number is\", z.imag)"
   ]
  },
  {
   "cell_type": "code",
   "execution_count": 9,
   "metadata": {},
   "outputs": [
    {
     "name": "stdout",
     "output_type": "stream",
     "text": [
      "First letter: T\n",
      "Here is: P\n",
      "Python language\n",
      "Python Python Python \n",
      "Sliced string: This\n",
      "Sliced string: This is my second class\n",
      "Lower case: this is my second class of python language\n",
      "Upper case: THIS IS MY SECOND CLASS OF PYTHON LANGUAGE\n",
      "replace: This is my second class of C++ language\n"
     ]
    }
   ],
   "source": [
    "# String\n",
    "\n",
    "sentence = \"This is my second class of Python language\"\n",
    "print (\"First letter:\", sentence[0])\n",
    "print (\"Here is:\", sentence[-15])\n",
    "\n",
    "\n",
    "greeting = \"Python\" + \" language\"\n",
    "print (greeting)\n",
    "\n",
    "\n",
    "repeat = \"Python \" * 3\n",
    "print (repeat)\n",
    "\n",
    "\n",
    "print(\"Sliced string:\", sentence[0:4])\n",
    "print(\"Sliced string:\", sentence[0:23])\n",
    "\n",
    "\n",
    "print (\"Lower case:\", sentence.lower())\n",
    "print (\"Upper case:\", sentence.upper())\n",
    "\n",
    "\n",
    "print (\"replace:\", sentence.replace(\"Python\", \"C++\"))"
   ]
  },
  {
   "cell_type": "code",
   "execution_count": 10,
   "metadata": {},
   "outputs": [
    {
     "name": "stdout",
     "output_type": "stream",
     "text": [
      "[1, 2, 3, 4, 5, 6]\n"
     ]
    },
    {
     "data": {
      "text/plain": [
       "[1, 2, 3]"
      ]
     },
     "execution_count": 10,
     "metadata": {},
     "output_type": "execute_result"
    }
   ],
   "source": [
    "\n",
    "# List\n",
    "numbers = [1, 2, 3, 4, 5]\n",
    "\n",
    "numbers.append(6)\n",
    "print (numbers)\n",
    "\n",
    "# List slicing\n",
    "numbers[:3] # 0, 1, 2\n"
   ]
  },
  {
   "cell_type": "code",
   "execution_count": 11,
   "metadata": {},
   "outputs": [
    {
     "name": "stdout",
     "output_type": "stream",
     "text": [
      "(1, 2, 3, 4, 5)\n",
      "(1, 2, 3)\n"
     ]
    }
   ],
   "source": [
    "# Tuple\n",
    "numbers = (1, 2, 3, 4, 5)\n",
    "\n",
    "print (numbers)\n",
    "print (numbers[:3])"
   ]
  },
  {
   "cell_type": "code",
   "execution_count": 12,
   "metadata": {},
   "outputs": [
    {
     "name": "stdout",
     "output_type": "stream",
     "text": [
      "{1, 2, 3, 4, 5}\n"
     ]
    }
   ],
   "source": [
    "# Sets\n",
    "numbers = {1, 2, 3, 4, 5}\n",
    "\n",
    "numbers.add(5)\n",
    "\n",
    "print (numbers)\n",
    "\n"
   ]
  },
  {
   "cell_type": "code",
   "execution_count": 13,
   "metadata": {},
   "outputs": [
    {
     "name": "stdout",
     "output_type": "stream",
     "text": [
      "{'name': 'secondRandom'}\n",
      "{'name': 'secondRandom', 'age': 22}\n"
     ]
    }
   ],
   "source": [
    "# Dictionary\n",
    "student = {\"name\": \"random\"} # key value pair\n",
    "\n",
    "student[\"name\"] = \"secondRandom\"\n",
    "print (student)\n",
    "\n",
    "student[\"age\"] = 22\n",
    "print(student)"
   ]
  },
  {
   "cell_type": "code",
   "execution_count": 14,
   "metadata": {},
   "outputs": [
    {
     "name": "stdout",
     "output_type": "stream",
     "text": [
      "12.3\n",
      "<class 'float'>\n"
     ]
    }
   ],
   "source": [
    "# Implicit Conversion\n",
    "a = 10\n",
    "b = 2.3\n",
    "\n",
    "sum = a + b\n",
    "print(sum)\n",
    "\n",
    "print(type(sum))\n"
   ]
  },
  {
   "cell_type": "code",
   "execution_count": 15,
   "metadata": {},
   "outputs": [
    {
     "name": "stdout",
     "output_type": "stream",
     "text": [
      "<class 'int'>\n",
      "33\n"
     ]
    }
   ],
   "source": [
    "# Explicit Conversion\n",
    "age = \"22\"\n",
    "integer = 11\n",
    "\n",
    "age = int(age)\n",
    "# integer = str(integer)\n",
    "# float(age)\n",
    "\n",
    "print (type(age))\n",
    "\n",
    "result = age + integer\n",
    "print (result)"
   ]
  },
  {
   "cell_type": "code",
   "execution_count": 16,
   "metadata": {},
   "outputs": [
    {
     "name": "stdout",
     "output_type": "stream",
     "text": [
      "Addition: 14\n",
      "Subtraction: 6\n",
      "Multiplication: 40\n",
      "Division: 2.5\n",
      "Floor_Division: 2\n",
      "Remainder: 2\n",
      "Modulus: 2\n",
      "Exponent: 10000\n",
      "Equal: False\n",
      "Not equal: True\n",
      "Greater then: True\n",
      "Less than: False\n",
      "a AND b: 2.3\n",
      "a OR b: 10\n",
      "a NOT b: False\n"
     ]
    }
   ],
   "source": [
    "# Arithmetic Operators\n",
    "\n",
    "num1 = 10\n",
    "num2 = 4\n",
    "\n",
    "print(\"Addition:\", num1 + num2)\n",
    "print(\"Subtraction:\", num1 - num2)\n",
    "print(\"Multiplication:\", num1 * num2)\n",
    "print(\"Division:\", num1 / num2)\n",
    "print(\"Floor_Division:\", num1 // num2)\n",
    "print(\"Remainder:\", num1 % num2)\n",
    "print(\"Modulus:\", num1 % num2)\n",
    "print(\"Exponent:\", num1 ** num2) #power\n",
    "\n",
    "\n",
    "# Comparison Operators\n",
    "\n",
    "print(\"Equal:\", num1 == num2)\n",
    "print(\"Not equal:\", num1 != num2)\n",
    "print(\"Greater then:\", num1 > num2)\n",
    "print(\"Less than:\", num1 < num2)\n",
    "\n",
    "\n",
    "\n",
    "# Logical Operators\n",
    "\n",
    "\n",
    "print(\"a AND b:\", a and b)\n",
    "print(\"a OR b:\", a or b)\n",
    "print(\"a NOT b:\", not b)"
   ]
  },
  {
   "cell_type": "code",
   "execution_count": 17,
   "metadata": {},
   "outputs": [
    {
     "name": "stdout",
     "output_type": "stream",
     "text": [
      "10.0\n"
     ]
    }
   ],
   "source": [
    "# Assignment Operators\n",
    "\n",
    "a = 10\n",
    "a += 5 # a = a + 5\n",
    "a -= 5 # a = a - 5\n",
    "a *= 5 # a = a * 5\n",
    "a /= 5 # a = a / 5\n",
    "\n",
    "print(a)\n",
    "     "
   ]
  },
  {
   "cell_type": "code",
   "execution_count": 18,
   "metadata": {},
   "outputs": [
    {
     "name": "stdout",
     "output_type": "stream",
     "text": [
      "16\n",
      "['A', ' bunch', ' of', ' words']\n"
     ]
    },
    {
     "data": {
      "text/plain": [
       "['A', ' bunch', ' of', ' words']"
      ]
     },
     "execution_count": 18,
     "metadata": {},
     "output_type": "execute_result"
    }
   ],
   "source": [
    "# Length Function\n",
    "\n",
    "sentence = \"A bunch of words\"\n",
    "\n",
    "print (len(sentence))\n",
    "     \n",
    "\n",
    "# Split Function\n",
    "\n",
    "sentence = \"A: bunch: of: words\"\n",
    "\n",
    "print (sentence.split(':'))\n",
    "     \n",
    "['A', ' bunch', ' of', ' words']\n"
   ]
  },
  {
   "cell_type": "code",
   "execution_count": 19,
   "metadata": {},
   "outputs": [
    {
     "name": "stdout",
     "output_type": "stream",
     "text": [
      "7\n",
      "0.3843484465773329\n",
      "item1\n"
     ]
    }
   ],
   "source": [
    "# Random Function\n",
    "\n",
    "import random\n",
    "\n",
    "print(random.randint(1, 10))\n",
    "print(random.random())\n",
    "\n",
    "items = ['item1', 'item2', 'item3']\n",
    "print(random.choice(items))\n"
   ]
  }
 ],
 "metadata": {
  "kernelspec": {
   "display_name": "Python 3",
   "language": "python",
   "name": "python3"
  },
  "language_info": {
   "codemirror_mode": {
    "name": "ipython",
    "version": 3
   },
   "file_extension": ".py",
   "mimetype": "text/x-python",
   "name": "python",
   "nbconvert_exporter": "python",
   "pygments_lexer": "ipython3",
   "version": "3.10.11"
  }
 },
 "nbformat": 4,
 "nbformat_minor": 2
}
